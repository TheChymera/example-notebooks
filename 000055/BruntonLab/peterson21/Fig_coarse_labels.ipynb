{
 "cells": [
  {
   "cell_type": "markdown",
   "metadata": {},
   "source": [
    "# Plot example coarse behavioral labelling trace"
   ]
  },
  {
   "cell_type": "markdown",
   "metadata": {},
   "source": [
    "Replicates example coarse behavior labelling trace for one recording day. Note that the figure from the data paper combined the targeted (targeted=True) and untargeted (both first_val=True and first_val=False) behavior labels."
   ]
  },
  {
   "cell_type": "code",
   "execution_count": null,
   "metadata": {},
   "outputs": [],
   "source": [
    "%pip install -r requirements.txt"
   ]
  },
  {
   "cell_type": "code",
   "execution_count": 1,
   "metadata": {},
   "outputs": [],
   "source": [
    "import natsort\n",
    "from pynwb import NWBHDF5IO\n",
    "from dandi.dandiapi import DandiAPIClient\n",
    "import ndx_events\n",
    "\n",
    "from plot_utils import prune_clabels, plot_clabels"
   ]
  },
  {
   "cell_type": "markdown",
   "metadata": {},
   "source": [
    "## Set parameters"
   ]
  },
  {
   "cell_type": "code",
   "execution_count": 2,
   "metadata": {},
   "outputs": [],
   "source": [
    "targ_tlims = [13, 17]  # targeted window to plot (in hours)\n",
    "targeted = True  # plot targeted window (True) or whole day (False)\n",
    "targ_label = 'Computer/phone'"
   ]
  },
  {
   "cell_type": "markdown",
   "metadata": {},
   "source": [
    "## Load NWB data file"
   ]
  },
  {
   "cell_type": "code",
   "execution_count": null,
   "metadata": {},
   "outputs": [],
   "source": [
    "with DandiAPIClient() as client:\n",
    "    asset = clieconnt.get_dandiset(\"000055\", \"draft\").get_asset_by_path(\n",
    "        \"sub-01/sub-01_ses-4_behavior+ecephys.nwb\"\n",
    "    )\n",
    "    s3_path = asset.get_content_url(follow_redirects=1, strip_query=True)\n",
    "\n",
    "with NWBHDF5IO(s3_path, mode='r', load_namespaces=True, driver='ros3') as io:\n",
    "    nwb = io.read()\n",
    "    clabels_orig = nwb.intervals['epochs'].to_dataframe()"
   ]
  },
  {
   "cell_type": "markdown",
   "metadata": {},
   "source": [
    "## Select coarse labels based on user parameters"
   ]
  },
  {
   "cell_type": "code",
   "execution_count": null,
   "metadata": {},
   "outputs": [],
   "source": [
    "label_col_d = {\n",
    "    'Other activity': 0,\n",
    "    'Computer/phone': 1,\n",
    "    'Eat': 2,\n",
    "    'TV': 3,\n",
    "    'Talk': 4\n",
    "}\n",
    "\n",
    "clabels, uni_labs = prune_clabels(clabels_orig, targeted,\n",
    "                                  targ_tlims, None,\n",
    "                                  targ_label)"
   ]
  },
  {
   "cell_type": "markdown",
   "metadata": {},
   "source": [
    "## Plot labels over time"
   ]
  },
  {
   "cell_type": "code",
   "execution_count": null,
   "metadata": {},
   "outputs": [],
   "source": [
    "fig = plot_clabels(clabels, uni_labs, targeted, None, targ_tlims, targlab_colind=label_col_d[targ_label])\n",
    "\n",
    "\n",
    "# # Save figure\n",
    "# fig_sp = ''\n",
    "# targ_label_out = '_'.join(targ_label.split(' '))\n",
    "# targ_label_out = '_'.join(targ_label_out.split('/'))\n",
    "# fig.savefig(fig_sp+targ_label_out+'_targeted_trace.png',\n",
    "#             format='png',  transparent= True,dpi=150,\n",
    "#             bbox_inches = 'tight', pad_inches = 0.01,\n",
    "#             )"
   ]
  },
  {
   "cell_type": "code",
   "execution_count": null,
   "metadata": {},
   "outputs": [],
   "source": []
  }
 ],
 "metadata": {
  "kernelspec": {
   "display_name": "Python 3 (ipykernel)",
   "language": "python",
   "name": "python3"
  },
  "language_info": {
   "codemirror_mode": {
    "name": "ipython",
    "version": 3
   },
   "file_extension": ".py",
   "mimetype": "text/x-python",
   "name": "python",
   "nbconvert_exporter": "python",
   "pygments_lexer": "ipython3",
   "version": "3.7.11"
  }
 },
 "nbformat": 4,
 "nbformat_minor": 4
}
